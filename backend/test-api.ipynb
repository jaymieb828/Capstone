{
 "cells": [
  {
   "cell_type": "code",
   "execution_count": 26,
   "metadata": {},
   "outputs": [],
   "source": [
    "import requests, base64,json\n",
    "from requests.auth import HTTPBasicAuth\n"
   ]
  },
  {
   "cell_type": "code",
   "execution_count": null,
   "metadata": {},
   "outputs": [],
   "source": [
    "client_id =  \"mypantrytest-d04ea2bb830f8945fa9aee593069d3476339740537354243872\"\n",
    "client_secret = \"H9H5mg2XTCRFu3DIrzCDk2CKc7v3i8dkzsr0cquv\"\n",
    "\n",
    "\n",
    "userpass = client_id+':'+client_secret\n",
    "\n",
    "print('userpass - ', userpass)\n",
    "\n",
    "encoded_u = base64.b64encode(userpass.encode()).decode()\n",
    "\n",
    "encoded_u "
   ]
  },
  {
   "cell_type": "code",
   "execution_count": null,
   "metadata": {},
   "outputs": [],
   "source": [
    "token_url = 'https://api.kroger.com/v1/connect/oauth2/authorize'\n",
    "userpass = client_id+':'+client_secret\n",
    "encoded_u = base64.b64encode(userpass.encode()).decode()\n",
    "\n",
    "headers = {\n",
    "    \"Authorization\": f\"Basic {encoded_u}\"  ,\n",
    "        'Cookie': '_abck=4D57707F817920E09298A947AC7A668E~-1~YAAQXh0gF6wq0x6EAQAASv0gLQgWJaIbzlwFSUeSooTIlaExS0UGFeRPvBQFFb9nqQHqr9PPW03SEKtUEn/nD8vSw5mX4cnnUxIvtPYJoNnEWnFeCCIqB0iUv0X/h6oEXqlZjvbGddHp+a7ZKpbTrgXhHR5NEuuiNU3pRbBbX3lIp2jXKp2jCTszU1nHVoyx01Ij+SsnIJ2UeueJLXLuJ7F958cXzciAmmiOz7hi0iQ0Ku+GqX+L+pob/yDT3Ljo72m4CIY4Trj1R0PJ+PkZrMJ2iQZawxf9cxx792iKU1iPl4iyyHxoPZP2Vfs2q4ZSK2hS82jNzikK8fYhtc2H+sstd9aFyjja3zcfq7dfIGHUE4/9z+tqjy0foZ8=~-1~-1~-1; bm_sz=B37657F6058BC35078FFFAC5A0306A23~YAAQXh0gF60q0x6EAQAASv0gLREuN723qvnnqTKOx8Hbfyc/xKnnsVVsLItHHLtHMqMZR7PnceQ2aENDKbsTKAogaQziufSub65nQTqH4finuf8pRJOZ0NR5VcJ3gdOlkp1XEt+95tlJWM7SKjgvxduFtuOrHLUkB19Lnx0mgVq9IApdRIYDrLoDDOWeRWdZr5+9bPH7Dnlsqvm5DvRZsb8iFEhzfSj5h1ZMW938acuDtoVGip1FGs5bpdpF4L/fn9xysaalyIlQm/EJKCq9irZbwrFt0mAt29w5jJ9kZvqOKXXxwVsYMqfALI5MQDuaaYvoZJwTGtdfjcu3SCqTViei5tz1mbexNdTexxpz/5QKOsMpL7fbzFyDyip700VKMD8=~4403766~3556417; akaalb_Digital_ALB_API=~op=KT_Digital_API_Apigee:api-apigee|~rv=82~m=api-apigee:0|~os=75b4a9ec926d2a9e67035451773cec6c~id=de6444c83893dccbb3ba54cf1d872063'\n",
    "    \n",
    "}\n",
    "API_URL = 'https://api.kroger.com/v1'\n",
    "url = API_URL + '/connect/oauth2/token'\n",
    "payload = {\n",
    "    \"grant_type\":\"client_credentials\",\n",
    "    \"scope\":[\"product.compact\"],\n",
    "}\n",
    "response = requests.post(url, headers=headers, data=payload)\n",
    "access_token = response.json().get('access_token')\n",
    "\n",
    "response.text"
   ]
  },
  {
   "cell_type": "code",
   "execution_count": null,
   "metadata": {},
   "outputs": [],
   "source": [
    "url = 'https://api.kroger.com/v1/cart/add'\n",
    "headers = {\n",
    "    'Content-Type': 'application/json',\n",
    "    'Authorization': f'Bearer {access_token}',\n",
    "    'Cookie': '_abck=4D57707F817920E09298A947AC7A668E~-1~YAAQXh0gF6wq0x6EAQAASv0gLQgWJaIbzlwFSUeSooTIlaExS0UGFeRPvBQFFb9nqQHqr9PPW03SEKtUEn/nD8vSw5mX4cnnUxIvtPYJoNnEWnFeCCIqB0iUv0X/h6oEXqlZjvbGddHp+a7ZKpbTrgXhHR5NEuuiNU3pRbBbX3lIp2jXKp2jCTszU1nHVoyx01Ij+SsnIJ2UeueJLXLuJ7F958cXzciAmmiOz7hi0iQ0Ku+GqX+L+pob/yDT3Ljo72m4CIY4Trj1R0PJ+PkZrMJ2iQZawxf9cxx792iKU1iPl4iyyHxoPZP2Vfs2q4ZSK2hS82jNzikK8fYhtc2H+sstd9aFyjja3zcfq7dfIGHUE4/9z+tqjy0foZ8=~-1~-1~-1; bm_sz=B37657F6058BC35078FFFAC5A0306A23~YAAQXh0gF60q0x6EAQAASv0gLREuN723qvnnqTKOx8Hbfyc/xKnnsVVsLItHHLtHMqMZR7PnceQ2aENDKbsTKAogaQziufSub65nQTqH4finuf8pRJOZ0NR5VcJ3gdOlkp1XEt+95tlJWM7SKjgvxduFtuOrHLUkB19Lnx0mgVq9IApdRIYDrLoDDOWeRWdZr5+9bPH7Dnlsqvm5DvRZsb8iFEhzfSj5h1ZMW938acuDtoVGip1FGs5bpdpF4L/fn9xysaalyIlQm/EJKCq9irZbwrFt0mAt29w5jJ9kZvqOKXXxwVsYMqfALI5MQDuaaYvoZJwTGtdfjcu3SCqTViei5tz1mbexNdTexxpz/5QKOsMpL7fbzFyDyip700VKMD8=~4403766~3556417; akaalb_Digital_ALB_API=~op=KT_Digital_API_Apigee:api-apigee|~rv=82~m=api-apigee:0|~os=75b4a9ec926d2a9e67035451773cec6c~id=de6444c83893dccbb3ba54cf1d872063'\n",
    "    \n",
    "}\n",
    "\n",
    "params =  {'filter.term': \"milk\", 'filter.locationId': '02600848',  'filter.product_id': None, 'filter.brand': None, 'filter.fulfillment': 'csp'} \n",
    "response = requests.get(url, headers=headers, params=params)\n",
    "\n",
    "products = response.json()['data']\n",
    "products\n"
   ]
  },
  {
   "cell_type": "code",
   "execution_count": 34,
   "metadata": {},
   "outputs": [
    {
     "name": "stdout",
     "output_type": "stream",
     "text": [
      "513\n",
      "{\n",
      "    errorCode: 513,\n",
      "    errorMessage: \"All origins are down\"\n",
      "}\n",
      "\n"
     ]
    }
   ],
   "source": [
    "url = 'https://api.kroger.com/v1/products'\n",
    "headers = {\n",
    "    'Content-Type': 'application/json',\n",
    "    'Authorization': f'Bearer {access_token}',\n",
    "    # 'Cookie': '_abck=4D57707F817920E09298A947AC7A668E~-1~YAAQXh0gF6wq0x6EAQAASv0gLQgWJaIbzlwFSUeSooTIlaExS0UGFeRPvBQFFb9nqQHqr9PPW03SEKtUEn/nD8vSw5mX4cnnUxIvtPYJoNnEWnFeCCIqB0iUv0X/h6oEXqlZjvbGddHp+a7ZKpbTrgXhHR5NEuuiNU3pRbBbX3lIp2jXKp2jCTszU1nHVoyx01Ij+SsnIJ2UeueJLXLuJ7F958cXzciAmmiOz7hi0iQ0Ku+GqX+L+pob/yDT3Ljo72m4CIY4Trj1R0PJ+PkZrMJ2iQZawxf9cxx792iKU1iPl4iyyHxoPZP2Vfs2q4ZSK2hS82jNzikK8fYhtc2H+sstd9aFyjja3zcfq7dfIGHUE4/9z+tqjy0foZ8=~-1~-1~-1; bm_sz=B37657F6058BC35078FFFAC5A0306A23~YAAQXh0gF60q0x6EAQAASv0gLREuN723qvnnqTKOx8Hbfyc/xKnnsVVsLItHHLtHMqMZR7PnceQ2aENDKbsTKAogaQziufSub65nQTqH4finuf8pRJOZ0NR5VcJ3gdOlkp1XEt+95tlJWM7SKjgvxduFtuOrHLUkB19Lnx0mgVq9IApdRIYDrLoDDOWeRWdZr5+9bPH7Dnlsqvm5DvRZsb8iFEhzfSj5h1ZMW938acuDtoVGip1FGs5bpdpF4L/fn9xysaalyIlQm/EJKCq9irZbwrFt0mAt29w5jJ9kZvqOKXXxwVsYMqfALI5MQDuaaYvoZJwTGtdfjcu3SCqTViei5tz1mbexNdTexxpz/5QKOsMpL7fbzFyDyip700VKMD8=~4403766~3556417; akaalb_Digital_ALB_API=~op=KT_Digital_API_Apigee:api-apigee|~rv=82~m=api-apigee:0|~os=75b4a9ec926d2a9e67035451773cec6c~id=de6444c83893dccbb3ba54cf1d872063'\n",
    "}\n",
    "payload = [\n",
    "    {\"upc\":\"0001111096359\",\"quantity\":1},\n",
    "    {\"upc\":\"0001111077998\",\"quantity\":2},\n",
    "]\n",
    "data = {'items': payload} \n",
    "response = requests.put(url, headers=headers, data=json.dumps(data)) \n",
    "\n",
    "print(response.status_code)\n",
    "print(response.text)\n"
   ]
  },
  {
   "cell_type": "code",
   "execution_count": null,
   "metadata": {},
   "outputs": [],
   "source": []
  }
 ],
 "metadata": {
  "kernelspec": {
   "display_name": "Python 3.8.0 64-bit",
   "language": "python",
   "name": "python3"
  },
  "language_info": {
   "codemirror_mode": {
    "name": "ipython",
    "version": 3
   },
   "file_extension": ".py",
   "mimetype": "text/x-python",
   "name": "python",
   "nbconvert_exporter": "python",
   "pygments_lexer": "ipython3",
   "version": "3.8.0"
  },
  "orig_nbformat": 4,
  "vscode": {
   "interpreter": {
    "hash": "418f03e9ef599014220e9f377ee2df0071cb4cb10f4b3cdaf99d7534b2044106"
   }
  }
 },
 "nbformat": 4,
 "nbformat_minor": 2
}
